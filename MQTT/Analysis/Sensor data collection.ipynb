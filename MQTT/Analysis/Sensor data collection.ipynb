{
 "cells": [
  {
   "cell_type": "code",
   "execution_count": 1,
   "metadata": {
    "collapsed": false
   },
   "outputs": [
    {
     "name": "stdout",
     "output_type": "stream",
     "text": [
      "Connected\n",
      "Successfully subscribed\n",
      "Successfully disconnected from broker\n"
     ]
    },
    {
     "ename": "KeyboardInterrupt",
     "evalue": "",
     "output_type": "error",
     "traceback": [
      "\u001b[0;31m---------------------------------------------------------------------------\u001b[0m",
      "\u001b[0;31mKeyboardInterrupt\u001b[0m                         Traceback (most recent call last)",
      "\u001b[0;32m<ipython-input-1-d774872de771>\u001b[0m in \u001b[0;36m<module>\u001b[0;34m()\u001b[0m\n\u001b[1;32m     59\u001b[0m     \u001b[1;32mwhile\u001b[0m \u001b[1;32mTrue\u001b[0m\u001b[1;33m:\u001b[0m\u001b[1;33m\u001b[0m\u001b[0m\n\u001b[1;32m     60\u001b[0m         \u001b[1;31m# Fun code goes here!\u001b[0m\u001b[1;33m\u001b[0m\u001b[1;33m\u001b[0m\u001b[0m\n\u001b[0;32m---> 61\u001b[0;31m         \u001b[1;32mpass\u001b[0m\u001b[1;33m\u001b[0m\u001b[0m\n\u001b[0m\u001b[1;32m     62\u001b[0m \u001b[1;32mexcept\u001b[0m \u001b[0mException\u001b[0m \u001b[1;32mas\u001b[0m \u001b[0me\u001b[0m\u001b[1;33m:\u001b[0m\u001b[1;33m\u001b[0m\u001b[0m\n\u001b[1;32m     63\u001b[0m     \u001b[1;32mraise\u001b[0m \u001b[0me\u001b[0m\u001b[1;33m\u001b[0m\u001b[0m\n",
      "\u001b[0;31mKeyboardInterrupt\u001b[0m: "
     ]
    }
   ],
   "source": [
    "import paho.mqtt.client as mqtt\n",
    "from collections import defaultdict\n",
    "import csv\n",
    "import datetime\n",
    "\n",
    "broker_name = \"vm219.nubes.stfc.ac.uk\"\n",
    "broker_port = 1883\n",
    "subscriptions = ['#']\n",
    "data_collected = defaultdict(list)\n",
    "\n",
    "def on_connect(client, userdata, rc):\n",
    "    print('Connected')\n",
    "\n",
    "def on_publish(client, userdata, mid):\n",
    "    pass\n",
    "\n",
    "def on_message(client, userdata, message):\n",
    "    if message.topic.split('/')[1] == 'public':\n",
    "    \n",
    "        pi_name = message.topic.split('/')[0]\n",
    "        arduino_name = message.topic.split('/')[2]\n",
    "        sensor_name = message.topic.split('/')[4]\n",
    "        date, time = str(datetime.datetime.now()).split(' ')\n",
    "\n",
    "        row = [date, time, message.payload.decode()]\n",
    "        with open('Data/' + pi_name + '-' + arduino_name + '-' + sensor_name + '.csv', 'a', newline='') as f:\n",
    "            writer = csv.writer(f)\n",
    "            writer.writerow(row)\n",
    "    \n",
    "    # Save the data\n",
    "    \n",
    "def on_subscribe(client, userdata, mid, granted_qos):\n",
    "    print('Successfully subscribed')\n",
    "    \n",
    "def on_disconnect(client, userdata, rc):\n",
    "    print('Successfully disconnected from broker')\n",
    "    \n",
    "\n",
    "# We need to use an older protocol because the broker is running on an old version of Ubuntu\n",
    "protocol = mqtt.MQTTv31\n",
    "\n",
    "# Set up the client\n",
    "client = mqtt.Client(protocol=protocol)\n",
    "client.on_connect = on_connect\n",
    "client.on_message = on_message\n",
    "client.on_subscribe = on_subscribe\n",
    "client.on_publish = on_publish\n",
    "client.on_disconnect = on_disconnect\n",
    "\n",
    "# Make the connection\n",
    "client.connect(broker_name, broker_port, 60)\n",
    "\n",
    "# Subscribe to communications \n",
    "for sub in subscriptions:\n",
    "    client.subscribe(sub, qos=1)\n",
    "\n",
    "client.loop_start()\n",
    "try:\n",
    "    while True:\n",
    "        # Fun code goes here!\n",
    "        pass\n",
    "except Exception as e:\n",
    "    raise e\n",
    "finally:\n",
    "    for sub in subscriptions:\n",
    "        client.unsubscribe(sub)\n",
    "    client.disconnect()\n",
    "        "
   ]
  },
  {
   "cell_type": "code",
   "execution_count": null,
   "metadata": {
    "collapsed": false
   },
   "outputs": [],
   "source": [
    "\n",
    "str(datetime.datetime.now()).split(' ')"
   ]
  },
  {
   "cell_type": "code",
   "execution_count": null,
   "metadata": {
    "collapsed": false
   },
   "outputs": [],
   "source": []
  },
  {
   "cell_type": "code",
   "execution_count": null,
   "metadata": {
    "collapsed": true
   },
   "outputs": [],
   "source": []
  }
 ],
 "metadata": {
  "anaconda-cloud": {},
  "kernelspec": {
   "display_name": "Python [conda root]",
   "language": "python",
   "name": "conda-root-py"
  },
  "language_info": {
   "codemirror_mode": {
    "name": "ipython",
    "version": 3
   },
   "file_extension": ".py",
   "mimetype": "text/x-python",
   "name": "python",
   "nbconvert_exporter": "python",
   "pygments_lexer": "ipython3",
   "version": "3.5.2"
  }
 },
 "nbformat": 4,
 "nbformat_minor": 1
}

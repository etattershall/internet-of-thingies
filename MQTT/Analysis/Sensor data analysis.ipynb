{
 "cells": [
  {
   "cell_type": "code",
   "execution_count": 8,
   "metadata": {
    "collapsed": false
   },
   "outputs": [
    {
     "name": "stdout",
     "output_type": "stream",
     "text": [
      "Connected\n",
      "Successfully subscribed\n",
      "TestPi/public/9867/input/LDRTestPi/public/9867/input/LDR 325\n",
      " 325\n",
      "TestPi/public/9867/input/Thermistor 325\n",
      "TestPi/public/9867/input/Thermistor 325\n",
      "TestPi/public/9867/input/LDRTestPi/public/9867/input/LDR 324\n",
      " 324\n",
      "TestPi/public/9867/input/Thermistor 324\n",
      "TestPi/public/9867/input/Thermistor 324\n",
      "TestPi/public/9867/input/LDRTestPi/public/9867/input/LDR 323\n",
      " 323\n",
      "TestPi/public/9867/input/Thermistor 323\n",
      "TestPi/public/9867/input/Thermistor 323\n",
      "TestPi/public/9867/input/LDRTestPi/public/9867/input/LDR 322\n",
      " 322\n",
      "TestPi/public/9867/input/Thermistor 322\n",
      "TestPi/public/9867/input/Thermistor 322\n",
      "TestPi/public/9867/input/LDR 322\n",
      "TestPi/public/9867/input/LDR 322\n",
      "TestPi/public/9867/input/Thermistor 322\n",
      "TestPi/public/9867/input/Thermistor 322\n"
     ]
    }
   ],
   "source": [
    "import paho.mqtt.client as mqtt\n",
    "\n",
    "broker_name = \"vm219.nubes.stfc.ac.uk\"\n",
    "broker_port = 1883\n",
    "\n",
    "def on_connect(client, userdata, rc):\n",
    "    print('Connected')\n",
    "\n",
    "def on_publish(client, userdata, mid):\n",
    "    pass\n",
    "\n",
    "def on_message(client, userdata, message):\n",
    "    print(message.topic, message.payload.decode())\n",
    "    \n",
    "def on_subscribe(client, userdata, mid, granted_qos):\n",
    "    print('Successfully subscribed')\n",
    "    \n",
    "def on_disconnect(client, userdata, rc):\n",
    "    print('Successfully disconnected from broker')\n",
    "    \n",
    "\n",
    "# We need to use an older protocol because the broker is running on an old version of Ubuntu\n",
    "protocol = mqtt.MQTTv31\n",
    "\n",
    "# Set up the client\n",
    "client = mqtt.Client(protocol=protocol)\n",
    "client.on_connect = on_connect\n",
    "client.on_message = on_message\n",
    "client.on_subscribe = on_subscribe\n",
    "client.on_publish = on_publish\n",
    "client.on_disconnect = on_disconnect\n",
    "\n",
    "# Make the connection\n",
    "client.connect(broker_name, broker_port, 60)\n",
    "\n",
    "# Subscribe to TestPi communications \n",
    "client.subscribe('TestPi/#', qos=1)\n",
    "\n",
    "client.loop_start()\n",
    "\n",
    "        "
   ]
  },
  {
   "cell_type": "code",
   "execution_count": null,
   "metadata": {
    "collapsed": true
   },
   "outputs": [],
   "source": []
  }
 ],
 "metadata": {
  "anaconda-cloud": {},
  "kernelspec": {
   "display_name": "Python [conda root]",
   "language": "python",
   "name": "conda-root-py"
  },
  "language_info": {
   "codemirror_mode": {
    "name": "ipython",
    "version": 3
   },
   "file_extension": ".py",
   "mimetype": "text/x-python",
   "name": "python",
   "nbconvert_exporter": "python",
   "pygments_lexer": "ipython3",
   "version": "3.5.2"
  }
 },
 "nbformat": 4,
 "nbformat_minor": 1
}
